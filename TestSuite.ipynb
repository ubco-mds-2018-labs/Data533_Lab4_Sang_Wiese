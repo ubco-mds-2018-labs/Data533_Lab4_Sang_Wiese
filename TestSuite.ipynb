{
 "cells": [
  {
   "cell_type": "code",
   "execution_count": 3,
   "metadata": {},
   "outputs": [
    {
     "name": "stderr",
     "output_type": "stream",
     "text": [
      "test_predictedheight (TestModule1.TestPredictions) ... ok\n",
      "\n",
      "----------------------------------------------------------------------\n",
      "Ran 1 test in 0.001s\n",
      "\n",
      "OK\n",
      "test_bmi (TestModule2.TestBMI) ... ok\n",
      "test_predictedheight (TestModule1.TestPredictions) ... ok\n",
      "\n",
      "----------------------------------------------------------------------\n",
      "Ran 2 tests in 0.002s\n",
      "\n",
      "OK\n",
      "test_bmi (TestModule2.TestBMI) ... ok\n",
      "test_find_age (TestModule3.TestFindAge) ... ok\n",
      "test_predictedheight (TestModule1.TestPredictions) ... ok\n",
      "\n",
      "----------------------------------------------------------------------\n",
      "Ran 3 tests in 0.003s\n",
      "\n",
      "OK\n",
      "....."
     ]
    },
    {
     "name": "stdout",
     "output_type": "stream",
     "text": [
      "setupClass\n",
      "(Initialized powerlifter: Egor)\n",
      "(Initialized Swimmer: kim)\n",
      "Tear Down\n",
      "teardownClass\n",
      "setupClass\n",
      "(Initialized powerlifter: Egor)\n",
      "(Initialized Swimmer: kim)\n",
      "Tear Down\n",
      "teardownClass\n",
      "setupClass\n",
      "(Initialized powerlifter: Egor)\n",
      "(Initialized Swimmer: kim)\n",
      "Tear Down\n",
      "teardownClass\n",
      "setupClass\n",
      "(Initialized powerlifter: Egor)\n",
      "(Initialized Swimmer: kim)\n",
      "Tear Down\n",
      "teardownClass\n",
      "setupClass\n",
      "(Initialized powerlifter: Egor)\n",
      "(Initialized Swimmer: kim)\n",
      "Tear Down\n",
      "teardownClass\n",
      "setupClass\n",
      "(Initialized powerlifter: Egor)\n",
      "(Initialized Swimmer: kim)\n",
      "Tear Down\n",
      "teardownClass\n",
      "setupClass\n",
      "(Initialized powerlifter: Egor)\n",
      "(Initialized Swimmer: kim)\n",
      "Tear Down\n",
      "teardownClass\n",
      "setupClass\n",
      "(Initialized powerlifter: Egor)\n",
      "(Initialized Swimmer: kim)\n",
      "Tear Down\n",
      "teardownClass\n",
      "setupClass\n",
      "(Initialized powerlifter: Egor)\n",
      "(Initialized Swimmer: kim)\n",
      "Tear Down\n",
      "teardownClass\n",
      "setupClass\n",
      "(Initialized powerlifter: Egor)\n",
      "(Initialized Swimmer: kim)\n",
      "Tear Down\n",
      "(Initialized powerlifter: Egor)\n",
      "(Initialized Swimmer: kim)\n",
      "Tear Down\n",
      "teardownClass\n",
      "<unittest.runner.TextTestResult run=5 errors=0 failures=0>\n"
     ]
    },
    {
     "name": "stderr",
     "output_type": "stream",
     "text": [
      "\n",
      "----------------------------------------------------------------------\n",
      "Ran 5 tests in 0.004s\n",
      "\n",
      "OK\n"
     ]
    }
   ],
   "source": [
    "import unittest\n",
    "from TestModule1 import TestPredictions\n",
    "from TestModule2 import TestBMI\n",
    "from TestModule3 import TestFindAge\n",
    "from TestModule4 import TestHeightWeight\n",
    "\n",
    "def my_suite():\n",
    "    suite = unittest.TestSuite()\n",
    "    result = unittest.TestResult()\n",
    "    suite.addTest(unittest.makeSuite(TestPredictions))\n",
    "    suite.addTest(unittest.makeSuite(TestBMI))\n",
    "    suite.addTest(unittest.makeSuite(TestFindAge))\n",
    "    suite.addTest(unittest.makeSuite(TestHeightWeight))\n",
    "    runner = unittest.TextTestRunner()\n",
    "    print(runner.run(suite))\n",
    "my_suite()"
   ]
  },
  {
   "cell_type": "code",
   "execution_count": null,
   "metadata": {},
   "outputs": [],
   "source": []
  },
  {
   "cell_type": "code",
   "execution_count": null,
   "metadata": {},
   "outputs": [],
   "source": []
  }
 ],
 "metadata": {
  "kernelspec": {
   "display_name": "Python 3",
   "language": "python",
   "name": "python3"
  },
  "language_info": {
   "codemirror_mode": {
    "name": "ipython",
    "version": 3
   },
   "file_extension": ".py",
   "mimetype": "text/x-python",
   "name": "python",
   "nbconvert_exporter": "python",
   "pygments_lexer": "ipython3",
   "version": "3.6.5"
  }
 },
 "nbformat": 4,
 "nbformat_minor": 2
}
